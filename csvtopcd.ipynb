{
 "cells": [
  {
   "cell_type": "code",
   "execution_count": 2,
   "id": "74b44eec-5193-4c82-9435-d2bfa8baafea",
   "metadata": {},
   "outputs": [],
   "source": [
    "import pandas as pd"
   ]
  },
  {
   "cell_type": "code",
   "execution_count": 3,
   "id": "1f799878-3737-4cbe-aab8-ea208e9adc7a",
   "metadata": {},
   "outputs": [
    {
     "name": "stdout",
     "output_type": "stream",
     "text": [
      "PCD file saved to lidar_data.pcd\n"
     ]
    }
   ],
   "source": [
    "\n",
    "\n",
    "def csv_to_pcd(input_csv_file, output_pcd_file):\n",
    "    # Load the CSV file\n",
    "    data = pd.read_csv(input_csv_file)\n",
    "\n",
    "    # Ensure the required columns are present\n",
    "    if not all(col in data.columns for col in ['x', 'y', 'z']):\n",
    "        raise ValueError(\"CSV file must contain 'x', 'y', and 'z' columns\")\n",
    "\n",
    "    # Extract the points\n",
    "    points = data[['x', 'y', 'z']].values\n",
    "\n",
    "    # Create the PCD file header\n",
    "    header = (\n",
    "        \"# .PCD v0.7 - Point Cloud Data file format\\n\"\n",
    "        \"VERSION 0.7\\n\"\n",
    "        \"FIELDS x y z\\n\"\n",
    "        \"SIZE 4 4 4\\n\"\n",
    "        \"TYPE F F F\\n\"\n",
    "        \"COUNT 1 1 1\\n\"\n",
    "        f\"WIDTH {points.shape[0]}\\n\"\n",
    "        \"HEIGHT 1\\n\"\n",
    "        \"VIEWPOINT 0 0 0 1 0 0 0\\n\"\n",
    "        f\"POINTS {points.shape[0]}\\n\"\n",
    "        \"DATA ascii\\n\"\n",
    "    )\n",
    "\n",
    "    # Write the PCD file\n",
    "    with open(output_pcd_file, 'w') as f:\n",
    "        f.write(header)\n",
    "        for point in points:\n",
    "            f.write(f\"{point[0]} {point[1]} {point[2]}\\n\")\n",
    "\n",
    "    print(f\"PCD file saved to {output_pcd_file}\")\n",
    "\n",
    "# Define the input CSV file and output PCD file paths\n",
    "input_csv_file = 'lidar_data.csv'\n",
    "output_pcd_file = 'lidar_data.pcd'\n",
    "\n",
    "# Convert CSV to PCD\n",
    "csv_to_pcd(input_csv_file, output_pcd_file)"
   ]
  },
  {
   "cell_type": "code",
   "execution_count": null,
   "id": "939e7ea9-d154-4b42-a27f-5d02ac4d5158",
   "metadata": {},
   "outputs": [],
   "source": []
  }
 ],
 "metadata": {
  "kernelspec": {
   "display_name": "Python 3 (ipykernel)",
   "language": "python",
   "name": "python3"
  },
  "language_info": {
   "codemirror_mode": {
    "name": "ipython",
    "version": 3
   },
   "file_extension": ".py",
   "mimetype": "text/x-python",
   "name": "python",
   "nbconvert_exporter": "python",
   "pygments_lexer": "ipython3",
   "version": "3.11.7"
  }
 },
 "nbformat": 4,
 "nbformat_minor": 5
}
