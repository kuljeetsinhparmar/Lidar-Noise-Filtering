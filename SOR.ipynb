{
 "cells": [
  {
   "cell_type": "code",
   "execution_count": 2,
   "id": "eada4044-980b-4d67-988f-2effc732e327",
   "metadata": {},
   "outputs": [],
   "source": [
    "import pandas as pd\n",
    "import numpy as np\n",
    "from sklearn.neighbors import NearestNeighbors\n"
   ]
  },
  {
   "cell_type": "code",
   "execution_count": 4,
   "id": "789a9caa-8968-48c0-b4d5-77dce0fdd21b",
   "metadata": {},
   "outputs": [
    {
     "name": "stdout",
     "output_type": "stream",
     "text": [
      "PCD file saved to filtered_lidar_data_sor.pcd\n"
     ]
    }
   ],
   "source": [
    "def statistical_outlier_removal(data, k=8, std_dev_multiplier=2.0):\n",
    "    # Convert DataFrame to numpy array\n",
    "    points = data[['x', 'y', 'z']].values\n",
    "    \n",
    "    # Fit the nearest neighbors model\n",
    "    nbrs = NearestNeighbors(n_neighbors=k).fit(points)\n",
    "    distances, _ = nbrs.kneighbors(points)\n",
    "    \n",
    "    # Compute mean and standard deviation of distances\n",
    "    mean_distances = distances.mean(axis=1)\n",
    "    global_mean = mean_distances.mean()\n",
    "    global_std_dev = mean_distances.std()\n",
    "    \n",
    "    # Determine the threshold\n",
    "    threshold = global_mean + std_dev_multiplier * global_std_dev\n",
    "    \n",
    "    # Identify inliers\n",
    "    inliers = mean_distances < threshold\n",
    "    \n",
    "    # Return filtered data\n",
    "    return data[inliers]\n",
    "\n",
    "def save_pcd(data, filename):\n",
    "    header = (\n",
    "        \"# .PCD v0.7 - Point Cloud Data file format\\n\"\n",
    "        \"VERSION 0.7\\n\"\n",
    "        \"FIELDS x y z\\n\"\n",
    "        \"SIZE 4 4 4\\n\"\n",
    "        \"TYPE F F F\\n\"\n",
    "        \"COUNT 1 1 1\\n\"\n",
    "        f\"WIDTH {len(data)}\\n\"\n",
    "        \"HEIGHT 1\\n\"\n",
    "        \"VIEWPOINT 0 0 0 1 0 0 0\\n\"\n",
    "        f\"POINTS {len(data)}\\n\"\n",
    "        \"DATA ascii\\n\"\n",
    "    )\n",
    "    \n",
    "    with open(filename, 'w') as f:\n",
    "        f.write(header)\n",
    "        for _, row in data.iterrows():\n",
    "            f.write(f\"{row['x']} {row['y']} {row['z']}\\n\")\n",
    "    print(f\"PCD file saved to {filename}\")\n",
    "\n",
    "# Load the dataset\n",
    "input_csv_file = 'synthetic_lidar_data.csv'\n",
    "data = pd.read_csv(input_csv_file)\n",
    "\n",
    "# Apply Statistical Outlier Removal\n",
    "filtered_data = statistical_outlier_removal(data, k=8, std_dev_multiplier=2.0)\n",
    "\n",
    "# Save the filtered data to a PCD file\n",
    "output_pcd_file = 'filtered_lidar_data_sor.pcd'\n",
    "save_pcd(filtered_data, output_pcd_file)"
   ]
  },
  {
   "cell_type": "code",
   "execution_count": null,
   "id": "b6ec8041-0b8d-4c9c-95c1-c83b57676622",
   "metadata": {},
   "outputs": [],
   "source": []
  }
 ],
 "metadata": {
  "kernelspec": {
   "display_name": "Python 3 (ipykernel)",
   "language": "python",
   "name": "python3"
  },
  "language_info": {
   "codemirror_mode": {
    "name": "ipython",
    "version": 3
   },
   "file_extension": ".py",
   "mimetype": "text/x-python",
   "name": "python",
   "nbconvert_exporter": "python",
   "pygments_lexer": "ipython3",
   "version": "3.11.7"
  }
 },
 "nbformat": 4,
 "nbformat_minor": 5
}
