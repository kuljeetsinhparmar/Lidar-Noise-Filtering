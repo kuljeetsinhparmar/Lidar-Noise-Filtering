{
 "cells": [
  {
   "cell_type": "code",
   "execution_count": 1,
   "id": "78a2031c-5fda-45d8-84ee-547aa8840960",
   "metadata": {},
   "outputs": [],
   "source": [
    "import pandas as pd\n",
    "import numpy as np\n",
    "from sklearn.neighbors import NearestNeighbors"
   ]
  },
  {
   "cell_type": "code",
   "execution_count": 4,
   "id": "226aa96d-4f66-4c31-beeb-ba38ef2396d1",
   "metadata": {},
   "outputs": [
    {
     "name": "stdout",
     "output_type": "stream",
     "text": [
      "PCD file saved to filtered_lidar_data_ror.pcd\n"
     ]
    }
   ],
   "source": [
    "def radius_outlier_removal(data, radius=1.0, min_neighbors=5):\n",
    "    # Convert DataFrame to numpy array\n",
    "    points = data[['x', 'y', 'z']].values\n",
    "    \n",
    "    # Fit the nearest neighbors model\n",
    "    nbrs = NearestNeighbors(radius=radius).fit(points)\n",
    "    neighbors = nbrs.radius_neighbors(points, return_distance=False)\n",
    "    \n",
    "    # Identify inliers\n",
    "    inliers = np.array([len(neighbors[i]) >= min_neighbors for i in range(len(points))])\n",
    "    \n",
    "    # Return filtered data\n",
    "    return data[inliers]\n",
    "\n",
    "def save_pcd(data, filename):\n",
    "    header = (\n",
    "        \"# .PCD v0.7 - Point Cloud Data file format\\n\"\n",
    "        \"VERSION 0.7\\n\"\n",
    "        \"FIELDS x y z\\n\"\n",
    "        \"SIZE 4 4 4\\n\"\n",
    "        \"TYPE F F F\\n\"\n",
    "        \"COUNT 1 1 1\\n\"\n",
    "        f\"WIDTH {len(data)}\\n\"\n",
    "        \"HEIGHT 1\\n\"\n",
    "        \"VIEWPOINT 0 0 0 1 0 0 0\\n\"\n",
    "        f\"POINTS {len(data)}\\n\"\n",
    "        \"DATA ascii\\n\"\n",
    "    )\n",
    "    \n",
    "    with open(filename, 'w') as f:\n",
    "        f.write(header)\n",
    "        for _, row in data.iterrows():\n",
    "            f.write(f\"{row['x']} {row['y']} {row['z']}\\n\")\n",
    "    print(f\"PCD file saved to {filename}\")\n",
    "\n",
    "# Load the dataset\n",
    "input_csv_file = 'synthetic_lidar_data.csv'\n",
    "data = pd.read_csv(input_csv_file)\n",
    "\n",
    "# Apply Radius Outlier Removal\n",
    "filtered_data = radius_outlier_removal(data, radius=1.0, min_neighbors=5)\n",
    "\n",
    "# Save the filtered data to a PCD file\n",
    "output_pcd_file = 'filtered_lidar_data_ror.pcd'\n",
    "save_pcd(filtered_data, output_pcd_file)"
   ]
  },
  {
   "cell_type": "code",
   "execution_count": null,
   "id": "ff5094db-5e0a-4f7a-a0c8-b281803d18ac",
   "metadata": {},
   "outputs": [],
   "source": []
  }
 ],
 "metadata": {
  "kernelspec": {
   "display_name": "Python 3 (ipykernel)",
   "language": "python",
   "name": "python3"
  },
  "language_info": {
   "codemirror_mode": {
    "name": "ipython",
    "version": 3
   },
   "file_extension": ".py",
   "mimetype": "text/x-python",
   "name": "python",
   "nbconvert_exporter": "python",
   "pygments_lexer": "ipython3",
   "version": "3.11.7"
  }
 },
 "nbformat": 4,
 "nbformat_minor": 5
}
